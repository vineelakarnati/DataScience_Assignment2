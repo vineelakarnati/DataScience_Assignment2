{
 "cells": [
  {
   "cell_type": "markdown",
   "metadata": {},
   "source": [
    "# Task 1"
   ]
  },
  {
   "cell_type": "code",
   "execution_count": 1,
   "metadata": {},
   "outputs": [
    {
     "name": "stdout",
     "output_type": "stream",
     "text": [
      "6\n"
     ]
    }
   ],
   "source": [
    "#1.1 Own Reduce Function\n",
    "def my_reduce(func,l,val):\n",
    "    for i in l:\n",
    "        val=func(val,i)\n",
    "    return val\n",
    "def sum_num(val,i):\n",
    "    val=val+i\n",
    "    return val\n",
    "initializer=0\n",
    "print(my_reduce(sum_num,[1,2,3],initializer))"
   ]
  },
  {
   "cell_type": "code",
   "execution_count": 2,
   "metadata": {},
   "outputs": [
    {
     "name": "stdout",
     "output_type": "stream",
     "text": [
      "[2, 4]\n"
     ]
    }
   ],
   "source": [
    "#1.2 Own Filter Function\n",
    "def my_filter(func,l):\n",
    "    l1=[]\n",
    "    for i in l:\n",
    "        if(func(i)):\n",
    "            l1.append(i)\n",
    "    return l1\n",
    "def even_num(i):\n",
    "    if(i%2==0):\n",
    "        return True\n",
    "    else:\n",
    "        return False\n",
    "print(my_filter(even_num,[1,2,3,4]))"
   ]
  },
  {
   "cell_type": "code",
   "execution_count": 3,
   "metadata": {},
   "outputs": [
    {
     "name": "stdout",
     "output_type": "stream",
     "text": [
      "['A', 'C', 'A', 'D', 'G', 'I', 'L', 'D']\n",
      "['x', 'xx', 'xxx', 'xxxx', 'y', 'yy', 'yyy', 'yyyy', 'z', 'zz', 'zzz', 'zzzz']\n",
      "['x', 'y', 'z', 'xx', 'yy', 'zz', 'xxx', 'yyy', 'zzz', 'xxxx', 'yyyy', 'zzzz']\n",
      "[[2], [3], [4], [3], [4], [5], [4], [5], [6]]\n",
      "[[2, 3, 4, 5], [3, 4, 5, 6], [4, 5, 6, 7], [5, 6, 7, 8]]\n",
      "[(1, 1), (2, 1), (3, 1), (1, 2), (2, 2), (3, 2), (1, 3), (2, 3), (3, 3)]\n"
     ]
    }
   ],
   "source": [
    "#2 List Comprehension\n",
    "l1=print([i for i in 'ACADGILD'])\n",
    "l2=print([i*n for i in ['x','y','z'] for n in range(1,5)])\n",
    "l3=print([i*n for n in range(1,5) for i in ['x','y','z']])\n",
    "l4=print([[n] for i in range(2,5) for n in range(i,i+3)])\n",
    "l5=print([[n for n in range(i,i+4)] for i in range(2,6)])\n",
    "l6=print([(y,x) for x in range(1,4) for y in range(1,4)])"
   ]
  },
  {
   "cell_type": "code",
   "execution_count": 4,
   "metadata": {},
   "outputs": [
    {
     "name": "stdout",
     "output_type": "stream",
     "text": [
      "abc\n"
     ]
    }
   ],
   "source": [
    "#3 Longest Word\n",
    "from functools import reduce\n",
    "l=['a','abc','c','de']\n",
    "print(max(l, key=lambda s: (len(s), s)))"
   ]
  },
  {
   "cell_type": "markdown",
   "metadata": {},
   "source": [
    "# Task 2"
   ]
  },
  {
   "cell_type": "code",
   "execution_count": 5,
   "metadata": {},
   "outputs": [
    {
     "name": "stdout",
     "output_type": "stream",
     "text": [
      "Area of triangle with sides 3 4 5 is\n",
      "6.0\n"
     ]
    }
   ],
   "source": [
    "#1.1\n",
    "#Write a Python Program(with class concepts) to find the area of the triangle using the below\n",
    "#formula.\n",
    "#area = (s*(s-a)*(s-b)*(s-c)) ** 0.5\n",
    "#Function to take the length of the sides of triangle from user should be defined in the parent\n",
    "#class and function to calculate the area should be defined in subclass.\n",
    "class Shape:\n",
    "   def __init__(self,a,b,c):\n",
    "       self.a = a\n",
    "       self.b = b\n",
    "       self.c = c\n",
    "   def __str__(self):\n",
    "       a,b,c = self.a,self.b,self.c\n",
    "       return ('Area of triangle with sides %d %d %d is'%(a,b,c))\n",
    "\n",
    "class Triangle(Shape):\n",
    "    def __init__(self, *args):\n",
    "       super(Triangle, self).__init__(*args)\n",
    "\n",
    "    def getArea(self):\n",
    "       a,b,c = self.a,self.b,self.c\n",
    "       s = (a+b+c) / 2\n",
    "       return (s*(s-a)*(s-b)*(s-c)) ** 0.5\n",
    "\n",
    "\n",
    "tri = Triangle(3,4,5)\n",
    "print(tri)\n",
    "print(tri.getArea())"
   ]
  },
  {
   "cell_type": "code",
   "execution_count": 6,
   "metadata": {},
   "outputs": [
    {
     "name": "stdout",
     "output_type": "stream",
     "text": [
      "abc\n",
      "cdef\n",
      "['abc', 'cdef']\n"
     ]
    }
   ],
   "source": [
    "#1.2\n",
    "#Write a function filter_long_words() that takes a list of words and an integer n and returns the list\n",
    "#of words that are longer than n.\n",
    "def filter_long_words(l,n):\n",
    "    print(list(filter(lambda x:n_len(x,n),l)))\n",
    "def n_len(i,n):\n",
    "    if(len(i)>n):\n",
    "        print(i)\n",
    "        return True\n",
    "    else:\n",
    "        return False\n",
    "filter_long_words(['aa','abc','cdef','de'],2)\n",
    "    "
   ]
  },
  {
   "cell_type": "code",
   "execution_count": 7,
   "metadata": {},
   "outputs": [
    {
     "name": "stdout",
     "output_type": "stream",
     "text": [
      "[2, 3, 4, 2]\n"
     ]
    }
   ],
   "source": [
    "#2.1\n",
    "#Maps list of words to their lengths\n",
    "def words_length(l):\n",
    "    print(list(map(lambda x:len(x),l)))\n",
    "words_length(['aa','abc','cdef','de'])"
   ]
  },
  {
   "cell_type": "code",
   "execution_count": 8,
   "metadata": {},
   "outputs": [
    {
     "data": {
      "text/plain": [
       "False"
      ]
     },
     "execution_count": 8,
     "metadata": {},
     "output_type": "execute_result"
    }
   ],
   "source": [
    "#2.2\n",
    "#filter Vowel\n",
    "def filter_vowel(c):\n",
    "    if c in ['a','e','i','o','u','A','E','I','O','U']:\n",
    "        return True\n",
    "    else:\n",
    "        return False\n",
    "filter_vowel('b')\n",
    "\n"
   ]
  },
  {
   "cell_type": "code",
   "execution_count": null,
   "metadata": {},
   "outputs": [],
   "source": []
  },
  {
   "cell_type": "code",
   "execution_count": null,
   "metadata": {},
   "outputs": [],
   "source": []
  },
  {
   "cell_type": "code",
   "execution_count": null,
   "metadata": {},
   "outputs": [],
   "source": []
  },
  {
   "cell_type": "code",
   "execution_count": null,
   "metadata": {},
   "outputs": [],
   "source": []
  }
 ],
 "metadata": {
  "kernelspec": {
   "display_name": "Python 3",
   "language": "python",
   "name": "python3"
  },
  "language_info": {
   "codemirror_mode": {
    "name": "ipython",
    "version": 3
   },
   "file_extension": ".py",
   "mimetype": "text/x-python",
   "name": "python",
   "nbconvert_exporter": "python",
   "pygments_lexer": "ipython3",
   "version": "3.6.5"
  }
 },
 "nbformat": 4,
 "nbformat_minor": 2
}
